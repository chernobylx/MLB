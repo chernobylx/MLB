{
 "cells": [
  {
   "cell_type": "code",
   "id": "initial_id",
   "metadata": {
    "collapsed": true
   },
   "source": [
    "import pandas as pd\n",
    "import numpy as np\n",
    "import seaborn as sns\n",
    "import matplotlib.pyplot as plt\n",
    "import warnings\n",
    "warnings.filterwarnings(\"ignore\")\n",
    "from mlb.Data import Data"
   ],
   "outputs": [],
   "execution_count": null
  },
  {
   "metadata": {},
   "cell_type": "code",
   "source": "df = pd.read_csv('data/games.csv')",
   "id": "4359b0c3b120ca67",
   "outputs": [],
   "execution_count": null
  },
  {
   "metadata": {},
   "cell_type": "code",
   "source": "df",
   "id": "b08d344ade1e847f",
   "outputs": [],
   "execution_count": null
  },
  {
   "metadata": {},
   "cell_type": "code",
   "source": "df.columns",
   "id": "1c6b50d32ff6d3e8",
   "outputs": [],
   "execution_count": null
  },
  {
   "metadata": {},
   "cell_type": "code",
   "source": [
    "import re\n",
    "def normalize_columns(cols):\n",
    "    new_cols = []\n",
    "    for col in cols.copy():\n",
    "        replace_dict = {' - ': '_',\n",
    "                       '-': '_',\n",
    "                       ' ': '_',\n",
    "                       '/': '_'}\n",
    "        temp = col.lower()\n",
    "        for k, v in replace_dict.items():\n",
    "            temp = temp.replace(k, v)\n",
    "\n",
    "        temp = re.sub(r'^(.+)_(home|away)$', r'\\2_\\1', temp)\n",
    "        new_cols.append(temp)\n",
    "\n",
    "\n",
    "    return new_cols"
   ],
   "id": "6aa6690f193f3335",
   "outputs": [],
   "execution_count": null
  },
  {
   "metadata": {},
   "cell_type": "code",
   "source": [
    "df.columns = normalize_columns(df.columns)\n",
    "df.columns"
   ],
   "id": "4caa24ef1aee3442",
   "outputs": [],
   "execution_count": null
  },
  {
   "metadata": {},
   "cell_type": "code",
   "source": "df.dtypes",
   "id": "845afeaa14700da",
   "outputs": [],
   "execution_count": null
  },
  {
   "metadata": {},
   "cell_type": "code",
   "source": [
    "def clean_games(df):\n",
    "    df = df.set_index('game')\n",
    "    df['datetime'] = pd.to_datetime(df['date'])\n",
    "    df['date'] = df.datetime.dt.date\n",
    "    df['time'] = df.datetime.dt.time\n",
    "    df = df.sort_values('datetime')\n",
    "    df = pd.concat([df[['date', 'home', 'away']],\n",
    "                    df.drop(['date', 'home', 'away'], axis=1)], axis=1)\n",
    "    df = df.drop(df[df.duplicated()].index)\n",
    "    df = df.replace('(null-null)', np.nan)\n",
    "    for col in df.columns:\n",
    "        if df[col].isna().sum() < 100:\n",
    "            df = df.drop(df[df[col].isna()].index)\n",
    "        if col == 'save_pitcher_record':\n",
    "            df[col] = df[col].fillna('(0)')\n",
    "\n",
    "        if 'record' in col:\n",
    "            if 'pitcher' in col:\n",
    "                df[col] = df[col].str.replace(r'\\((\\d+-?\\d*)\\)', r'\\1', regex=True)\n",
    "\n",
    "                if 'save' in col:\n",
    "                    df[col.replace('record', 'saves')] = df[col].str.replace(r'\\((\\d+)\\)', r'\\1', regex=True).astype(int)\n",
    "                    df = df.drop(col, axis=1)\n",
    "                    continue\n",
    "\n",
    "            df[col.replace('record', 'wins')] = df[col].str.replace(r'(\\d+)-{1}(\\d+)\\s*\\w*', r'\\1', regex=True).astype(int)\n",
    "            df[col.replace('record', 'losses')] = df[col].str.replace(r'(\\d+)-{1}(\\d+)\\s*\\w*', r'\\2', regex=True).astype(int)\n",
    "            df = df.drop(col, axis=1)\n",
    "        if 'postseason' in col:\n",
    "            df['regular_season'] = df[col].isna()\n",
    "            df[col] = df[col].fillna('Regular Season')\n",
    "\n",
    "        if col == 'stadium':\n",
    "            df[col] = df[col].str.replace(r'^\\s*(.+(\\s\\w+)*){1}(.*\\s*)*', r'\\1', regex=True)\n",
    "        if col == 'location':\n",
    "            df[col] = df[col].str.replace(r'^(.+(\\s\\w+)*)\\s*\\d*',r'\\1', regex=True)\n",
    "        if col in ['attendance', 'capacity']:\n",
    "            df[col] = df[col].str.replace(',','')\n",
    "            df[col] = pd.to_numeric(df[col])\n",
    "            df[col] = df[col].fillna(int(df[col].mean()))\n",
    "        if col == 'duration':\n",
    "            df['hours'] = df[col].str.split(':').apply(lambda x: int(x[0]))\n",
    "            df['minutes'] = df[col].str.split(':').apply(lambda x: int(x[1][:2]))\n",
    "            df[col] = df['minutes'] + 60 * df['hours']\n",
    "            df = df.drop(['minutes', 'hours'], axis=1)\n",
    "\n",
    "        if 'stats' in col:\n",
    "            if 'save' in col:\n",
    "                df[col] = df[col].fillna('0.0 IP, 0 ER, 0 K, 0 BB')\n",
    "            stat_regex = r'(\\d)\\.(\\d) IP, (\\d+) ER, (\\d+) K, (\\d+) BB'\n",
    "            df[col.replace('stats','full')] = df[col].str.replace(stat_regex, r'\\1', regex=True).apply(lambda x: int(x))\n",
    "            df[col.replace('stats', 'partial')] = df[col].str.replace(stat_regex, r'\\2', regex=True).apply(lambda x: int(x))\n",
    "            df[col.replace('stats', 'outs')]  = df[col.replace('stats','full')] * 3 + df[col.replace('stats','partial')]\n",
    "            df = df.drop([col.replace('stats','full'), col.replace('stats', 'partial')], axis=1)\n",
    "            df[col.replace('stats', 'er')] = df[col].str.replace(stat_regex, r'\\3', regex=True).apply(lambda x: int(x))\n",
    "            df[col.replace('stats', 'k')] = df[col].str.replace(stat_regex, r'\\4', regex=True).apply(lambda x: int(x))\n",
    "            df[col.replace('stats', 'bb')] = df[col].str.replace(stat_regex, r'\\5', regex=True).apply(lambda x: int(x))\n",
    "            df = df.drop(col, axis=1)\n",
    "        if 'extra' in col:\n",
    "            df[col] = df[col].fillna(False)\n",
    "        if col == 'odds':\n",
    "            temp = df[col].str.extract(r'Line:\\s(\\w+)(?:\\s-(\\d+))?')\n",
    "            temp.columns = ['fav','odds']\n",
    "            def proces_row(row):\n",
    "                if row['fav'] == 'EVEN':\n",
    "                    row['odds'] = '100'\n",
    "                return row\n",
    "            temp = temp.apply(proces_row, axis=1)\n",
    "            temp.odds = temp.odds.astype(float)\n",
    "            df[col] = temp.odds\n",
    "            df['fav'] = temp.fav\n",
    "        if col == 'o_u':\n",
    "            df[col] = df[col].str.extract(r'\\w+/\\w+:\\s(\\d+)').astype(float)\n",
    "\n",
    "\n",
    "    return df\n",
    "\n",
    "df_clean = clean_games(df)"
   ],
   "id": "c266f70f2643c97b",
   "outputs": [],
   "execution_count": null
  },
  {
   "metadata": {},
   "cell_type": "code",
   "source": "df_clean",
   "id": "f4253274fd9626f5",
   "outputs": [],
   "execution_count": null
  },
  {
   "metadata": {},
   "cell_type": "code",
   "source": "df_clean.dtypes",
   "id": "e30ba5c8f1065ba7",
   "outputs": [],
   "execution_count": null
  },
  {
   "metadata": {},
   "cell_type": "code",
   "source": "df_clean.describe()",
   "id": "960dd774c932777c",
   "outputs": [],
   "execution_count": null
  },
  {
   "metadata": {},
   "cell_type": "code",
   "source": "    df_clean.select_dtypes(include=[object]).describe()",
   "id": "c48ce9ca7acfba86",
   "outputs": [],
   "execution_count": null
  },
  {
   "metadata": {},
   "cell_type": "code",
   "source": "df_num = df_clean.select_dtypes(include = [float, int, 'datetime64[ns, UTC]']).filter(regex = r'.+(?<!id)$').drop(['odds','o_u', 'datetime', 'attendance', 'capacity'], axis=1)",
   "id": "ee8a15c56a648652",
   "outputs": [],
   "execution_count": null
  },
  {
   "metadata": {},
   "cell_type": "code",
   "source": "df_num.dtypes",
   "id": "b800697b6653568c",
   "outputs": [],
   "execution_count": null
  },
  {
   "metadata": {},
   "cell_type": "code",
   "source": [
    "def get_schedule(df, team):\n",
    "    df_home =  df[(df.home == team)]\n",
    "    df_away = df[(df.away == team)]\n",
    "\n",
    "    df_home['venue'] = df_home.home.apply(lambda x : 'HOME')\n",
    "    df_away['venue'] = df_away.home.apply(lambda x : 'AWAY')\n",
    "\n",
    "    r_home = r'(?<!home)(home)'\n",
    "    r_away = r'(?<!away)(away)'\n",
    "    r__ = r'(team|opp)(?!(_|$))'\n",
    "    s__ = r'\\1_'\n",
    "    df_home = df_home.rename(lambda x: re.sub(r_home, 'team', x), axis = 1).rename(lambda x: re.sub(r_away, 'opp', x), axis = 1).rename(lambda x: re.sub(r__, s__, x), axis = 1)\n",
    "    df_away = df_away.rename(lambda x: re.sub(r_away, 'team', x), axis = 1).rename(lambda x: re.sub(r_home, 'opp', x), axis = 1).rename(lambda x: re.sub(r__, s__, x), axis = 1)\n",
    "    df =  pd.concat([df_home, df_away]).sort_values('datetime')\n",
    "    temp = df.filter(regex = r'(wins|losses)$').fillna(method = 'ffill').fillna(0)\n",
    "    df[temp.columns] = temp\n",
    "    return df"
   ],
   "id": "b912f7f409bc2993",
   "outputs": [],
   "execution_count": null
  },
  {
   "metadata": {},
   "cell_type": "code",
   "source": "get_schedule(df_clean, 'BOS')",
   "id": "faf8379806ee2f9d",
   "outputs": [],
   "execution_count": null
  },
  {
   "metadata": {},
   "cell_type": "code",
   "source": [
    "def get_rolling_averages(df, team, window = 3):\n",
    "    sched = get_schedule(df, team).filter(regex = r'(datetime)|(venue)|(.*(opp|team).*)').drop(['team', 'opp', 'datetime', 'venue'], axis=1)\n",
    "    sched = sched.drop(sched.filter(regex = r'^opp.*(wins|losses)$').columns, axis = 1)\n",
    "    sched = sched.rolling(closed = 'left', window = window).mean().dropna()\n",
    "    sched = sched.rename(lambda x: x+f'_avg_{window}', axis = 1)\n",
    "    return sched"
   ],
   "id": "b89af0ab641928ac",
   "outputs": [],
   "execution_count": null
  },
  {
   "metadata": {},
   "cell_type": "code",
   "source": "get_rolling_averages(df_clean, 'BOS')",
   "id": "e633d90f1b2ce05a",
   "outputs": [],
   "execution_count": null
  },
  {
   "metadata": {},
   "cell_type": "code",
   "source": [
    "def get_exp_avg(df, team, hl = 3):\n",
    "    sched = get_schedule(df, team).filter(regex = r'(datetime)|(venue)|(.*(opp|team).*)').drop(['team', 'opp', 'datetime', 'venue'], axis=1)\n",
    "    sched = sched.drop(sched.filter(regex = r'^opp.*(wins|losses)$').columns, axis = 1)\n",
    "    sched = sched.ewm(halflife = hl).mean().dropna()\n",
    "    sched = sched.rename(lambda x: x+f'_exp_{hl}', axis = 1)\n",
    "    return sched\n"
   ],
   "id": "55f14e104ba93d4",
   "outputs": [],
   "execution_count": null
  },
  {
   "metadata": {},
   "cell_type": "code",
   "source": "get_exp_avg(df_clean, 'BOS', hl = 3)",
   "id": "86972bb1b50fc58e",
   "outputs": [],
   "execution_count": null
  },
  {
   "metadata": {},
   "cell_type": "code",
   "source": "",
   "id": "7045a1ae46ebe480",
   "outputs": [],
   "execution_count": null
  }
 ],
 "metadata": {
  "kernelspec": {
   "display_name": "Python 3",
   "language": "python",
   "name": "python3"
  },
  "language_info": {
   "codemirror_mode": {
    "name": "ipython",
    "version": 2
   },
   "file_extension": ".py",
   "mimetype": "text/x-python",
   "name": "python",
   "nbconvert_exporter": "python",
   "pygments_lexer": "ipython2",
   "version": "2.7.6"
  }
 },
 "nbformat": 4,
 "nbformat_minor": 5
}
