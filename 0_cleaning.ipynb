{
 "cells": [
  {
   "cell_type": "code",
   "id": "initial_id",
   "metadata": {
    "collapsed": true
   },
   "source": [
    "import pandas as pd\n",
    "import numpy as np\n",
    "import seaborn as sns\n",
    "import matplotlib.pyplot as plt\n",
    "import warnings\n",
    "warnings.filterwarnings(\"ignore\")\n",
    "from mlb.Data import Data\n",
    "\n",
    "import re\n"
   ],
   "outputs": [],
   "execution_count": null
  },
  {
   "metadata": {},
   "cell_type": "code",
   "source": "df = pd.read_csv('data/games.csv')",
   "id": "4359b0c3b120ca67",
   "outputs": [],
   "execution_count": null
  },
  {
   "metadata": {},
   "cell_type": "code",
   "source": "df",
   "id": "b08d344ade1e847f",
   "outputs": [],
   "execution_count": null
  },
  {
   "metadata": {},
   "cell_type": "code",
   "source": "df.columns",
   "id": "1c6b50d32ff6d3e8",
   "outputs": [],
   "execution_count": null
  },
  {
   "metadata": {},
   "cell_type": "code",
   "source": [
    "def normalize_columns(cols):\n",
    "    new_cols = []\n",
    "    for col in cols.copy():\n",
    "        replace_dict = {' - ': '_',\n",
    "                       '-': '_',\n",
    "                       ' ': '_',\n",
    "                       '/': '_'}\n",
    "        temp = col.lower()\n",
    "        for k, v in replace_dict.items():\n",
    "            temp = temp.replace(k, v)\n",
    "\n",
    "        temp = re.sub(r'^(.+)_(home|away)$', r'\\2_\\1', temp)\n",
    "        new_cols.append(temp)\n",
    "\n",
    "\n",
    "    return new_cols"
   ],
   "id": "6aa6690f193f3335",
   "outputs": [],
   "execution_count": null
  },
  {
   "metadata": {},
   "cell_type": "code",
   "source": [
    "df.columns = normalize_columns(df.columns)\n",
    "df.columns"
   ],
   "id": "4caa24ef1aee3442",
   "outputs": [],
   "execution_count": null
  },
  {
   "metadata": {},
   "cell_type": "code",
   "source": "df.dtypes",
   "id": "845afeaa14700da",
   "outputs": [],
   "execution_count": null
  },
  {
   "metadata": {},
   "cell_type": "code",
   "source": [
    "def clean_games(df):\n",
    "    df = df.set_index('game')\n",
    "    df['datetime'] = pd.to_datetime(df['date'])\n",
    "    df['date'] = df.datetime.dt.date\n",
    "    df['time'] = df.datetime.dt.time\n",
    "    df = df.sort_values('datetime')\n",
    "    df = pd.concat([df[['date', 'home', 'away']],\n",
    "                    df.drop(['date', 'home', 'away'], axis=1)], axis=1)\n",
    "    df = df.drop(df[df.duplicated()].index)\n",
    "    df = df.replace('(null-null)', np.nan)\n",
    "    for col in df.columns:\n",
    "        if df[col].isna().sum() < 100:\n",
    "            df = df.drop(df[df[col].isna()].index)\n",
    "        if col == 'save_pitcher_record':\n",
    "            df[col] = df[col].fillna('(0)')\n",
    "\n",
    "        if 'record' in col:\n",
    "            if 'pitcher' in col:\n",
    "                df[col] = df[col].str.replace(r'\\((\\d+-?\\d*)\\)', r'\\1', regex=True)\n",
    "\n",
    "                if 'save' in col:\n",
    "                    df[col.replace('record', 'saves')] = df[col].str.replace(r'\\((\\d+)\\)', r'\\1', regex=True).astype(int)\n",
    "                    df = df.drop(col, axis=1)\n",
    "                    continue\n",
    "\n",
    "            df[col.replace('record', 'wins')] = df[col].str.replace(r'(\\d+)-{1}(\\d+)\\s*\\w*', r'\\1', regex=True).astype(int)\n",
    "            df[col.replace('record', 'losses')] = df[col].str.replace(r'(\\d+)-{1}(\\d+)\\s*\\w*', r'\\2', regex=True).astype(int)\n",
    "            df = df.drop(col, axis=1)\n",
    "        if 'postseason' in col:\n",
    "            df['regular_season'] = df[col].isna()\n",
    "            df[col] = df[col].fillna('Regular Season')\n",
    "\n",
    "        if col == 'stadium':\n",
    "            df[col] = df[col].str.replace(r'^\\s*(.+(\\s\\w+)*){1}(.*\\s*)*', r'\\1', regex=True)\n",
    "        if col == 'location':\n",
    "            df[col] = df[col].str.replace(r'^(.+(\\s\\w+)*)\\s*\\d*',r'\\1', regex=True)\n",
    "        if col in ['attendance', 'capacity']:\n",
    "            df[col] = df[col].str.replace(',','')\n",
    "            df[col] = pd.to_numeric(df[col])\n",
    "            df[col] = df[col].fillna(int(df[col].mean()))\n",
    "        if col == 'duration':\n",
    "            df['hours'] = df[col].str.split(':').apply(lambda x: int(x[0]))\n",
    "            df['minutes'] = df[col].str.split(':').apply(lambda x: int(x[1][:2]))\n",
    "            df[col] = df['minutes'] + 60 * df['hours']\n",
    "            df = df.drop(['minutes', 'hours'], axis=1)\n",
    "\n",
    "        if 'stats' in col:\n",
    "            if 'save' in col:\n",
    "                df[col] = df[col].fillna('0.0 IP, 0 ER, 0 K, 0 BB')\n",
    "            stat_regex = r'(\\d)\\.(\\d) IP, (\\d+) ER, (\\d+) K, (\\d+) BB'\n",
    "            df[col.replace('stats','full')] = df[col].str.replace(stat_regex, r'\\1', regex=True).apply(lambda x: int(x))\n",
    "            df[col.replace('stats', 'partial')] = df[col].str.replace(stat_regex, r'\\2', regex=True).apply(lambda x: int(x))\n",
    "            df[col.replace('stats', 'outs')]  = df[col.replace('stats','full')] * 3 + df[col.replace('stats','partial')]\n",
    "            df = df.drop([col.replace('stats','full'), col.replace('stats', 'partial')], axis=1)\n",
    "            df[col.replace('stats', 'er')] = df[col].str.replace(stat_regex, r'\\3', regex=True).apply(lambda x: int(x))\n",
    "            df[col.replace('stats', 'k')] = df[col].str.replace(stat_regex, r'\\4', regex=True).apply(lambda x: int(x))\n",
    "            df[col.replace('stats', 'bb')] = df[col].str.replace(stat_regex, r'\\5', regex=True).apply(lambda x: int(x))\n",
    "            df = df.drop(col, axis=1)\n",
    "        if 'extra' in col:\n",
    "            df[col] = df[col].fillna(False)\n",
    "        if col == 'odds':\n",
    "            temp = df[col].str.extract(r'Line:\\s(\\w+)(?:\\s-(\\d+))?')\n",
    "            temp.columns = ['fav','odds']\n",
    "            def proces_row(row):\n",
    "                if row['fav'] == 'EVEN':\n",
    "                    row['odds'] = '100'\n",
    "                return row\n",
    "            temp = temp.apply(proces_row, axis=1)\n",
    "            temp.odds = temp.odds.astype(float)\n",
    "            df[col] = temp.odds\n",
    "            df['fav'] = temp.fav\n",
    "        if col == 'o_u':\n",
    "            df[col] = df[col].str.extract(r'\\w+/\\w+:\\s(\\d+)').astype(float)\n",
    "\n",
    "\n",
    "    return df\n",
    "\n",
    "df_clean = clean_games(df)"
   ],
   "id": "c266f70f2643c97b",
   "outputs": [],
   "execution_count": null
  },
  {
   "metadata": {},
   "cell_type": "code",
   "source": "df_clean",
   "id": "f4253274fd9626f5",
   "outputs": [],
   "execution_count": null
  },
  {
   "metadata": {},
   "cell_type": "code",
   "source": "df_clean.dtypes",
   "id": "e30ba5c8f1065ba7",
   "outputs": [],
   "execution_count": null
  },
  {
   "metadata": {},
   "cell_type": "code",
   "source": "df_clean.describe()",
   "id": "960dd774c932777c",
   "outputs": [],
   "execution_count": null
  },
  {
   "metadata": {},
   "cell_type": "code",
   "source": "df_clean.select_dtypes(include=[object]).describe()",
   "id": "c48ce9ca7acfba86",
   "outputs": [],
   "execution_count": null
  },
  {
   "metadata": {},
   "cell_type": "code",
   "source": [
    "def get_schedule(df, team):\n",
    "    df_home =  df[(df.home == team)]\n",
    "    df_away = df[(df.away == team)]\n",
    "\n",
    "    df_home['venue'] = df_home.home.apply(lambda x : 'HOME')\n",
    "    df_away['venue'] = df_away.home.apply(lambda x : 'AWAY')\n",
    "\n",
    "    r_home = r'(?<!home)(home)'\n",
    "    r_away = r'(?<!away)(away)'\n",
    "    r__ = r'(team|opp)(?!(_|$))'\n",
    "    s__ = r'\\1_'\n",
    "    df_home = df_home.rename(lambda x: re.sub(r_home, 'team', x), axis = 1).rename(lambda x: re.sub(r_away, 'opp', x), axis = 1).rename(lambda x: re.sub(r__, s__, x), axis = 1)\n",
    "    df_away = df_away.rename(lambda x: re.sub(r_away, 'team', x), axis = 1).rename(lambda x: re.sub(r_home, 'opp', x), axis = 1).rename(lambda x: re.sub(r__, s__, x), axis = 1)\n",
    "    df =  pd.concat([df_home, df_away]).sort_values('datetime')\n",
    "    temp = df.filter(regex = r'(wins|losses)$').fillna(method = 'ffill').fillna(0)\n",
    "    df[temp.columns] = temp\n",
    "    return df"
   ],
   "id": "b912f7f409bc2993",
   "outputs": [],
   "execution_count": null
  },
  {
   "metadata": {},
   "cell_type": "code",
   "source": "get_schedule(df_clean, 'BOS')",
   "id": "faf8379806ee2f9d",
   "outputs": [],
   "execution_count": null
  },
  {
   "metadata": {},
   "cell_type": "code",
   "source": [
    "def get_avg(df, team, hl = 3, window = 3, type = 'exp'):\n",
    "    sched = get_schedule(df, team).filter(regex = r'(datetime)|(venue)|(.*(opp|team).*)').drop(['datetime', 'opp', 'venue'], axis=1)\n",
    "    team = sched.pop('team')\n",
    "    #dt = sched.pop('datetime')\n",
    "    sched = sched.drop(sched.filter(regex = r'^opp.*(wins|losses)$').columns, axis = 1)\n",
    "    if type == 'exp':\n",
    "        sched = sched.ewm(halflife = hl).mean().dropna()\n",
    "        sched = sched.rename(lambda x: x+f'_exp_avg_{hl}', axis = 1)\n",
    "    elif type == 'roll':\n",
    "        sched = sched.rolling(closed = 'left', window = window, min_periods = 1).mean().dropna()\n",
    "        sched = sched.rename(lambda x: x+f'_roll_avg_{window}', axis = 1)\n",
    "    sched = pd.concat([team, sched], axis = 1)\n",
    "    return sched\n"
   ],
   "id": "55f14e104ba93d4",
   "outputs": [],
   "execution_count": null
  },
  {
   "metadata": {},
   "cell_type": "code",
   "source": "get_avg(df_clean, 'BOS', hl = 3, type = 'exp')",
   "id": "86972bb1b50fc58e",
   "outputs": [],
   "execution_count": null
  },
  {
   "metadata": {},
   "cell_type": "code",
   "source": [
    "def process_df(df, hls = [3,10], windows = [10]):\n",
    "    avgs = {}\n",
    "\n",
    "\n",
    "    for venue in ['home', 'away']:\n",
    "        for hl in hls:\n",
    "            s = f'{venue}_exp_{hl}'\n",
    "            print(s)\n",
    "            avgs[s] = pd.DataFrame()\n",
    "            for team in df.home.unique():\n",
    "                d = get_avg(df = df, team = team, hl = hl, type = 'exp').rename(columns = {'team':f'{venue}'}).set_index(f'{venue}', append = True).rename(lambda x: f'{venue}_'+x, axis = 1)\n",
    "                d = df.set_index(venue, append = True).join(d, how = 'inner').reset_index(level = f'{venue}').drop(df.columns, axis = 1)\n",
    "                avgs[s] = pd.concat([avgs[s], d])\n",
    "        for w in windows:\n",
    "            s = f'{venue}_roll_{hl}'\n",
    "            print(s)\n",
    "            avgs[s] = pd.DataFrame()\n",
    "            for team in df.home.unique():\n",
    "                d = get_avg(df = df, team = team, window = w, type = 'roll').rename(columns = {'team':f'{venue}'}).set_index(f'{venue}', append = True).rename(lambda x: f'{venue}_'+x, axis = 1)\n",
    "                d = df.set_index(venue, append = True).join(d, how = 'inner').reset_index(level = f'{venue}').drop(df.columns, axis = 1)\n",
    "                avgs[s] = pd.concat([avgs[s], d])\n",
    "    return pd.concat([df] + list(avgs.values()), axis = 1)\n",
    "\n"
   ],
   "id": "65ad187674d61af5",
   "outputs": [],
   "execution_count": null
  },
  {
   "metadata": {},
   "cell_type": "code",
   "source": "process_df(df_clean)",
   "id": "73ab2200ab69a6b8",
   "outputs": [],
   "execution_count": null
  },
  {
   "metadata": {},
   "cell_type": "code",
   "source": "hitters = pd.read_csv('data/hittersByGame.csv')",
   "id": "4599cbae50fe5942",
   "outputs": [],
   "execution_count": null
  },
  {
   "metadata": {},
   "cell_type": "code",
   "source": "hitters.columns = normalize_columns(hitters.columns)",
   "id": "7672432b0a2de01b",
   "outputs": [],
   "execution_count": null
  },
  {
   "metadata": {},
   "cell_type": "code",
   "source": "hitters = hitters.drop('h_ab', axis = 1)",
   "id": "5182bb0b34e937e7",
   "outputs": [],
   "execution_count": null
  },
  {
   "metadata": {},
   "cell_type": "code",
   "source": "hitters = hitters.set_index('game')",
   "id": "2f393fbb7a68e7e",
   "outputs": [],
   "execution_count": null
  },
  {
   "metadata": {},
   "cell_type": "code",
   "source": "hitters = hitters[hitters.position != 'TEAM']",
   "id": "556776d20435a2a0",
   "outputs": [],
   "execution_count": null
  },
  {
   "metadata": {},
   "cell_type": "code",
   "source": "hitters",
   "id": "60b19adf274306a7",
   "outputs": [],
   "execution_count": null
  },
  {
   "metadata": {},
   "cell_type": "code",
   "source": "",
   "id": "33a87319e7d4784d",
   "outputs": [],
   "execution_count": null
  },
  {
   "metadata": {},
   "cell_type": "code",
   "source": [
    "pitchers = pd.read_csv('data/pitchersByGame.csv')\n",
    "pitchers.columns = normalize_columns(pitchers.columns)\n",
    "pitchers = pitchers.set_index(['game', 'pitcher_id'])\n",
    "pitchers =  pitchers[pitchers.pitchers != 'TEAM']\n",
    "pitchers = pd.concat([pitchers.pc_st.str.extract(r'(?:\\d+|--)-(\\d+|--)').rename(columns = {0:'st'}), pitchers], axis = 1)\n",
    "pitchers.st = pitchers.st.replace('--',np.nan)\n",
    "extra = {'loss': r'\\(L',\n",
    "         'win': r'\\(W',\n",
    "         'hold': r'\\(H',\n",
    "         'save': r'\\(S'}\n",
    "for k, v in extra.items():\n",
    "    pitchers[k] = pitchers.extra.str.match(v).fillna(False)\n",
    "\n",
    "d = pitchers.ip.astype(str).str.extract(r'(\\d)\\.(\\d)').astype(int)\n",
    "pitchers['outs'] = d[0] * 3 + d[1]\n",
    "pitchers.drop(['pc_st', 'ip', 'extra'], axis = 1)"
   ],
   "id": "64818e537bd4e535",
   "outputs": [],
   "execution_count": null
  },
  {
   "metadata": {},
   "cell_type": "code",
   "source": [
    "pitches = pd.read_csv('data/pitches.csv')\n",
    "pitches.columns = normalize_columns(pitches.columns)"
   ],
   "id": "5430e29d1fcab49b",
   "outputs": [],
   "execution_count": null
  },
  {
   "metadata": {},
   "cell_type": "code",
   "source": "pitches = pitches.set_index(['game', 'event_id', 'num'])",
   "id": "cabe4f44fad0b9e7",
   "outputs": [],
   "execution_count": null
  },
  {
   "metadata": {},
   "cell_type": "code",
   "source": [
    "pb = pitches.play_bases.astype(str)\n",
    "pitches['runner_on_1'] = pb.str.match(r'\\d*1')\n",
    "pitches['runner_on_2'] = pb.str.match(r'\\d*2')\n",
    "pitches['runner_on_3'] = pb.str.match(r'\\d*3')"
   ],
   "id": "13d072d455a45310",
   "outputs": [],
   "execution_count": null
  },
  {
   "metadata": {},
   "cell_type": "code",
   "source": "pitches.mph = pitches.mph.replace('--', np.nan).astype(float)",
   "id": "542c1654595220a2",
   "outputs": [],
   "execution_count": null
  },
  {
   "metadata": {},
   "cell_type": "code",
   "source": "pitches = pd.concat([pitches, pitches.play_field.str.extract(r'top: (\\d+\\.*\\d*)px; right: (\\d+\\.*\\d*)px;').astype(float).rename(columns = {0:'play_field_top', 1:'play_field_right'})],axis = 1)",
   "id": "eea2cb453405c56b",
   "outputs": [],
   "execution_count": null
  },
  {
   "metadata": {},
   "cell_type": "code",
   "source": "pitches",
   "id": "79f7e2e920570f6d",
   "outputs": [],
   "execution_count": null
  },
  {
   "metadata": {},
   "cell_type": "code",
   "source": "pitches = pd.concat([pitches, pitches.play_hitzone.str.extract(r'top: (\\d+\\.*\\d*)px; right: (\\d+\\.*\\d*)px;').astype(float).rename(columns = {0:'play_hitzone_top', 1:'play_hitzone_right'})],axis = 1)",
   "id": "81a0c70f733c0deb",
   "outputs": [],
   "execution_count": null
  },
  {
   "metadata": {},
   "cell_type": "code",
   "source": "pitches = pd.concat([pitches, pitches.inning.str.extract(r'(\\w+) (\\d+).+').rename(columns = {1:'inning_num', 0:'inning_topbottom'})], axis = 1)",
   "id": "9e25fcb9a4f01e2d",
   "outputs": [],
   "execution_count": null
  },
  {
   "metadata": {},
   "cell_type": "code",
   "source": [
    "pitches.type.unique()\n",
    "#Fastball: fastball, four-seam fb, two-seam fb, cutter, sinker\n",
    "#Offspeed: slider, changeup, curve, splitter, knuckleball, screwball, knuckle curve, eephus pitch, slow curve\n",
    "#Intentional ball: intentional ball, pitch out\n",
    "#Breaking ball: slider, curve, splitter, knuckleball, screwball, forkball, knuckle curve, slow curve\n",
    "#knuckle balls: knuckleball, knuckle curve, forkball"
   ],
   "id": "c4dc592a38cddc24",
   "outputs": [],
   "execution_count": null
  },
  {
   "metadata": {},
   "cell_type": "code",
   "source": "pitches.type = pitches.type.replace({'--': np.nan, 'Unknown': np.nan})",
   "id": "85f3017067145af9",
   "outputs": [],
   "execution_count": null
  },
  {
   "metadata": {},
   "cell_type": "code",
   "source": [
    "fastball = r'Fastball|.*FB|Cutter|Sinker'\n",
    "offspeed = r'Slider|Changeup|.*Curve|Splitter|Knuckle.*|Screwball|Forkball|Eephus.*'\n",
    "intentional = r'Intentional Ball|Pitch Out'\n",
    "breaking = r'Slider|.*Curve|Splitter|Knuckle.*|Screwball|Forkball'\n",
    "knuckle = r'Knuckle.*|Forkball'\n",
    "pitches.type.replace(fastball,'fast', regex = True).replace(offspeed,'offspeed', regex = True).replace(intentional,'intentional', regex = True).unique()"
   ],
   "id": "69366e1112b4faf3",
   "outputs": [],
   "execution_count": null
  },
  {
   "metadata": {},
   "cell_type": "code",
   "source": [
    "pitches['fastball'] = pitches.type.str.match(fastball)\n",
    "pitches['offspeed'] = pitches.type.str.match(offspeed)\n",
    "pitches['intentional'] = pitches.type.str.match(intentional)\n",
    "pitches['breaking'] = pitches.type.str.match(breaking)\n",
    "pitches['knuckle'] = pitches.type.str.match(knuckle)"
   ],
   "id": "9560f9386beae3bc",
   "outputs": [],
   "execution_count": null
  },
  {
   "metadata": {},
   "cell_type": "code",
   "source": "pitches",
   "id": "d877bd8f17fa8435",
   "outputs": [],
   "execution_count": null
  },
  {
   "metadata": {},
   "cell_type": "code",
   "source": [
    "pitches.pitch.value_counts()\n",
    "#Ball: Ball, Intentional Ball\n",
    "#Strike: Strike Looking, Strike Swinging, 'Strikeout Batter Safe, Passed Ball|Error'\n",
    "#Foul: Foul Ball, Foul Out, Error On A Dropped Foul Ball\n",
    "#Hit:(Bunt) Single, (Ground Rule|Bunt) Double, Triple, (I.T.P.) Home Run\n",
    "#Out:"
   ],
   "id": "5aa9744afb9ddc03",
   "outputs": [],
   "execution_count": null
  },
  {
   "metadata": {},
   "cell_type": "code",
   "source": "",
   "id": "8c4590bc2cc7f19d",
   "outputs": [],
   "execution_count": null
  }
 ],
 "metadata": {
  "kernelspec": {
   "display_name": "Python 3",
   "language": "python",
   "name": "python3"
  },
  "language_info": {
   "codemirror_mode": {
    "name": "ipython",
    "version": 2
   },
   "file_extension": ".py",
   "mimetype": "text/x-python",
   "name": "python",
   "nbconvert_exporter": "python",
   "pygments_lexer": "ipython2",
   "version": "2.7.6"
  }
 },
 "nbformat": 4,
 "nbformat_minor": 5
}
